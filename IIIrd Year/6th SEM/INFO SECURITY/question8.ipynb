{
 "cells": [
  {
   "cell_type": "code",
   "execution_count": 1,
   "id": "4d5dcf5e",
   "metadata": {},
   "outputs": [
    {
     "name": "stdout",
     "output_type": "stream",
     "text": [
      "HWODLLEOLR \n"
     ]
    }
   ],
   "source": [
    "def row_transposition_trans(keyword, plaintext):\n",
    "    indices = sorted(range(len(keyword)), key=lambda x: keyword[x])\n",
    "    rows = (len(plaintext) - 1) // len(keyword) + 1\n",
    "    grid = [[''] * len(keyword) for _ in range(rows)]\n",
    "    for i, char in enumerate(plaintext):\n",
    "        row = i // len(keyword)\n",
    "        col = i % len(keyword)\n",
    "        grid[row][col] = char\n",
    "    ciphertext = ''\n",
    "    for col in indices:\n",
    "        for row in range(rows):\n",
    "            ciphertext += grid[row][col]\n",
    "    \n",
    "    return ciphertext\n",
    "\n",
    "\n",
    "keyword = 'CIPHER'\n",
    "plaintext = 'HELLO WORLD'\n",
    "ciphertext = row_transposition_trans(keyword, plaintext)\n",
    "print(ciphertext)"
   ]
  },
  {
   "cell_type": "code",
   "execution_count": null,
   "id": "a76db220",
   "metadata": {},
   "outputs": [],
   "source": []
  }
 ],
 "metadata": {
  "kernelspec": {
   "display_name": "Python 3 (ipykernel)",
   "language": "python",
   "name": "python3"
  },
  "language_info": {
   "codemirror_mode": {
    "name": "ipython",
    "version": 3
   },
   "file_extension": ".py",
   "mimetype": "text/x-python",
   "name": "python",
   "nbconvert_exporter": "python",
   "pygments_lexer": "ipython3",
   "version": "3.10.7"
  }
 },
 "nbformat": 4,
 "nbformat_minor": 5
}
