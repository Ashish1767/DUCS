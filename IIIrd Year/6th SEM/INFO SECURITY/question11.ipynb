{
 "cells": [
  {
   "cell_type": "code",
   "execution_count": 1,
   "id": "6dc7a96e",
   "metadata": {},
   "outputs": [],
   "source": [
    "def stream_cipher(message,key):\n",
    "    key = bytes(key, 'utf-8')\n",
    "    message = bytes(message, 'utf-8')\n",
    "    keystream = []\n",
    "    for i in range(len(message)):\n",
    "        key_byte = key[i % len(key)]\n",
    "        \n",
    "        keystream.append(key_byte)\n",
    "    encrypted = []\n",
    "    for i in range(len(message)):\n",
    "        encrypted_byte = message[i] ^ keystream[i]\n",
    "        encrypted.append(encrypted_byte)\n",
    "    encrypted_str = ''.join([chr(b) for b in encrypted])\n",
    "    return encrypted_str"
   ]
  },
  {
   "cell_type": "code",
   "execution_count": 2,
   "id": "91703155",
   "metadata": {},
   "outputs": [
    {
     "name": "stdout",
     "output_type": "stream",
     "text": [
      "UG\\]G\\G[XUZ_]\n"
     ]
    }
   ],
   "source": [
    "print(stream_cipher('ashishsolanki','4'))"
   ]
  },
  {
   "cell_type": "code",
   "execution_count": null,
   "id": "fcba6331",
   "metadata": {},
   "outputs": [],
   "source": []
  }
 ],
 "metadata": {
  "kernelspec": {
   "display_name": "Python 3 (ipykernel)",
   "language": "python",
   "name": "python3"
  },
  "language_info": {
   "codemirror_mode": {
    "name": "ipython",
    "version": 3
   },
   "file_extension": ".py",
   "mimetype": "text/x-python",
   "name": "python",
   "nbconvert_exporter": "python",
   "pygments_lexer": "ipython3",
   "version": "3.10.7"
  }
 },
 "nbformat": 4,
 "nbformat_minor": 5
}
