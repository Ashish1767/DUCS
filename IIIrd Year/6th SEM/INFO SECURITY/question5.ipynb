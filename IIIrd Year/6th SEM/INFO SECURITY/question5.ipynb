{
 "cells": [
  {
   "cell_type": "code",
   "execution_count": 1,
   "id": "4556bc23",
   "metadata": {},
   "outputs": [],
   "source": [
    "import numpy as np"
   ]
  },
  {
   "cell_type": "code",
   "execution_count": 2,
   "id": "beb814dc",
   "metadata": {},
   "outputs": [],
   "source": [
    "msg = input(\"enter the message\").lower()\n",
    "keyword = input(\"Enter the keyword\").lower()"
   ]
  },
  {
   "cell_type": "code",
   "execution_count": 3,
   "id": "843940e5",
   "metadata": {},
   "outputs": [
    {
     "data": {
      "text/plain": [
       "'ashishsolanki'"
      ]
     },
     "execution_count": 3,
     "metadata": {},
     "output_type": "execute_result"
    }
   ],
   "source": [
    "n_msg = \"\"\n",
    "for i in msg:\n",
    "    if i == 'j':\n",
    "        n_msg += 'i'\n",
    "    else:\n",
    "        n_msg += i\n",
    "n_msg"
   ]
  },
  {
   "cell_type": "code",
   "execution_count": null,
   "id": "ced5ae5e",
   "metadata": {},
   "outputs": [],
   "source": []
  },
  {
   "cell_type": "code",
   "execution_count": 4,
   "id": "d08f352d",
   "metadata": {},
   "outputs": [
    {
     "name": "stdout",
     "output_type": "stream",
     "text": [
      "[['m' 'o' 'n' 'a' 'r']\n",
      " ['c' 'h' 'y' 'b' 'd']\n",
      " ['e' 'f' 'g' 'i' 'k']\n",
      " ['l' 'p' 'q' 's' 't']\n",
      " ['u' 'v' 'w' 'x' 'z']]\n"
     ]
    }
   ],
   "source": [
    "key_matrix = np.zeros((5,5),dtype='str')\n",
    "ind = 0\n",
    "aasci = 97\n",
    "i =0\n",
    "while i<5:\n",
    "    j=0\n",
    "    while j<5:\n",
    "        if ind<len(keyword):\n",
    "            key_matrix[i][j] = keyword[ind]\n",
    "            ind = ind+1\n",
    "        else:\n",
    "            if chr(aasci) not in keyword:\n",
    "                char = chr(aasci)\n",
    "                if char == 'i':\n",
    "                    aasci = aasci+1\n",
    "                key_matrix[i][j] = char\n",
    "            else:\n",
    "                j = j-1\n",
    "            aasci = aasci + 1\n",
    "        j = j+1\n",
    "    i = i+1\n",
    "print(key_matrix)"
   ]
  },
  {
   "cell_type": "code",
   "execution_count": 5,
   "id": "72210e34",
   "metadata": {},
   "outputs": [
    {
     "name": "stdout",
     "output_type": "stream",
     "text": [
      "ashishsolankix\n"
     ]
    }
   ],
   "source": [
    "i = 0\n",
    "n_msg = list(n_msg)\n",
    "l = len(n_msg)\n",
    "if len(n_msg)%2 != 0:\n",
    "    n_msg.extend(['x'])\n",
    "while i < l:\n",
    "    if(n_msg[i] == n_msg[i+1]):\n",
    "        n_msg.insert(i+1,'x')\n",
    "        i = i+1\n",
    "    i = i+2\n",
    "if len(n_msg)%2 != 0:\n",
    "    n_msg.extend(['x'])\n",
    "n_msg = ''.join(n_msg)\n",
    "print(n_msg)"
   ]
  },
  {
   "cell_type": "code",
   "execution_count": 6,
   "id": "8fcf45b3",
   "metadata": {},
   "outputs": [],
   "source": [
    "def pos(el):\n",
    "    for i in range(5):\n",
    "        for j in range(5):\n",
    "            if key_matrix[i][j] == el:\n",
    "                return i,j"
   ]
  },
  {
   "cell_type": "code",
   "execution_count": 7,
   "id": "b6139487",
   "metadata": {},
   "outputs": [
    {
     "name": "stdout",
     "output_type": "stream",
     "text": [
      "bxbfpbpasmrgsa\n"
     ]
    }
   ],
   "source": [
    "i = 0\n",
    "enc_msg= \"\"\n",
    "while i < len(n_msg):\n",
    "    if pos(n_msg[i])[0] == pos(n_msg[i+1])[0]:\n",
    "        enc_msg += key_matrix[pos(n_msg[i])[0]][(pos(n_msg[i])[1]+1)%5]\n",
    "        enc_msg += key_matrix[pos(n_msg[i+1])[0]][(pos(n_msg[i+1])[1]+1)%5]\n",
    "    elif pos(n_msg[i])[1] == pos(n_msg[i+1])[1]:\n",
    "        enc_msg += key_matrix[(pos(n_msg[i])[0]+1)%5][pos(n_msg[i])[1]]\n",
    "        enc_msg += key_matrix[(pos(n_msg[i+1])[0]+1)%5][pos(n_msg[i+1])[1]]\n",
    "    else:\n",
    "        enc_msg += key_matrix[pos(n_msg[i])[0]][pos(n_msg[i+1])[1]]\n",
    "        enc_msg += key_matrix[pos(n_msg[i+1])[0]][pos(n_msg[i])[1]]\n",
    "    i = i+2\n",
    "print(enc_msg)"
   ]
  }
 ],
 "metadata": {
  "kernelspec": {
   "display_name": "Python 3 (ipykernel)",
   "language": "python",
   "name": "python3"
  },
  "language_info": {
   "codemirror_mode": {
    "name": "ipython",
    "version": 3
   },
   "file_extension": ".py",
   "mimetype": "text/x-python",
   "name": "python",
   "nbconvert_exporter": "python",
   "pygments_lexer": "ipython3",
   "version": "3.10.7"
  }
 },
 "nbformat": 4,
 "nbformat_minor": 5
}
