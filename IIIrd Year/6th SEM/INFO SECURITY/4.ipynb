{
 "cells": [
  {
   "cell_type": "code",
   "execution_count": 1,
   "metadata": {},
   "outputs": [
    {
     "name": "stdout",
     "output_type": "stream",
     "text": [
      "divyadivy\n",
      "Encrypted message =  gqqwaqacg\n"
     ]
    }
   ],
   "source": [
    "import numpy as np\n",
    "msg = input(\"Enter the message = \").lower()\n",
    "key = input(\"Enter the key = \")\n",
    "\n",
    "i = 0\n",
    "while len(msg) != len(key):\n",
    "    key+=key[i]\n",
    "    i=i+1\n",
    "print(key)\n",
    "\n",
    "enc_msg = \"\"\n",
    "for i in range(len(msg)):\n",
    "    enc_msg+=chr(((ord(msg[i])-97+ord(key[i])-97)%26)+97)\n",
    "print(\"Encrypted message = \",enc_msg)\n"
   ]
  }
 ],
 "metadata": {
  "kernelspec": {
   "display_name": "Python 3",
   "language": "python",
   "name": "python3"
  },
  "language_info": {
   "codemirror_mode": {
    "name": "ipython",
    "version": 3
   },
   "file_extension": ".py",
   "mimetype": "text/x-python",
   "name": "python",
   "nbconvert_exporter": "python",
   "pygments_lexer": "ipython3",
   "version": "3.10.7"
  },
  "orig_nbformat": 4
 },
 "nbformat": 4,
 "nbformat_minor": 2
}
