{
 "cells": [
  {
   "cell_type": "code",
   "execution_count": 1,
   "metadata": {},
   "outputs": [
    {
     "name": "stdout",
     "output_type": "stream",
     "text": [
      "Encrypted message :  ewlmwl\n",
      "Decrypted message :  ashish\n"
     ]
    }
   ],
   "source": [
    "def encrypt(msg,key): \n",
    "    encrypt_msg = \"\"\n",
    "    for i in msg:\n",
    "        encrypt_msg+=(chr(ord(i)+key))\n",
    "    return encrypt_msg\n",
    "def decrypt(msg,key):\n",
    "    decrypt_msg = \"\"\n",
    "    for i in msg:\n",
    "        decrypt_msg += (chr(ord(i)-key))\n",
    "    return decrypt_msg\n",
    "msg = input(\"Enter your message =\")\n",
    "key = int(input(\"Enter the key =\"))\n",
    "print('Encrypted message : ', encrypt(msg,key))\n",
    "print('Decrypted message : ', decrypt(encrypt(msg,key),key))"
   ]
  }
 ],
 "metadata": {
  "kernelspec": {
   "display_name": "Python 3",
   "language": "python",
   "name": "python3"
  },
  "language_info": {
   "codemirror_mode": {
    "name": "ipython",
    "version": 3
   },
   "file_extension": ".py",
   "mimetype": "text/x-python",
   "name": "python",
   "nbconvert_exporter": "python",
   "pygments_lexer": "ipython3",
   "version": "3.10.7"
  },
  "orig_nbformat": 4
 },
 "nbformat": 4,
 "nbformat_minor": 2
}
