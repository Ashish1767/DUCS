{
 "cells": [
  {
   "cell_type": "code",
   "execution_count": 1,
   "id": "042a2757",
   "metadata": {},
   "outputs": [],
   "source": [
    "def no_of_parity(m):\n",
    "    for i in range(m):\n",
    "        if(2**i >= m + i + 1):\n",
    "            return i\n",
    " "
   ]
  },
  {
   "cell_type": "code",
   "execution_count": 2,
   "id": "295c2f98",
   "metadata": {},
   "outputs": [],
   "source": [
    "def index_of_parity(data, r):\n",
    "    j = 0\n",
    "    k = 1\n",
    "    m = len(data)\n",
    "    res = ''\n",
    "    for i in range(1, m + r+1):\n",
    "        if(i == 2**j):\n",
    "            res = res + '0'\n",
    "            j += 1\n",
    "        else:\n",
    "            res = res + data[-1 * k]\n",
    "            k += 1\n",
    "    return res[::-1]"
   ]
  },
  {
   "cell_type": "code",
   "execution_count": 3,
   "id": "a0500ebb",
   "metadata": {},
   "outputs": [],
   "source": [
    "def value_of_parity(arr, r):\n",
    "    n = len(arr)\n",
    "    for i in range(r):\n",
    "        val = 0\n",
    "        for j in range(1, n + 1):\n",
    "            if(j & (2**i) == (2**i)):\n",
    "                val = val ^ int(arr[-1 * j])\n",
    "        arr = arr[:n-(2**i)] + str(val) + arr[n-(2**i)+1:]\n",
    "    return arr"
   ]
  },
  {
   "cell_type": "code",
   "execution_count": 4,
   "id": "439dd7c1",
   "metadata": {},
   "outputs": [],
   "source": [
    "def detect_error(arr, nr):\n",
    "    n = len(arr)\n",
    "    res = 0\n",
    "    for i in range(nr):\n",
    "        val = 0\n",
    "        for j in range(1, n + 1):\n",
    "            if(j & (2**i) == (2**i)):\n",
    "                val = val ^ int(arr[-1 * j])\n",
    "        res = res + val*(10**i)\n",
    "    return int(str(res), 2)"
   ]
  },
  {
   "cell_type": "code",
   "execution_count": 5,
   "id": "34282efa",
   "metadata": {},
   "outputs": [],
   "source": [
    "def main():\n",
    "    data = input(\"Enter the message\")\n",
    "    m = len(data)\n",
    "    r = no_of_parity(m)\n",
    "    arr = index_of_parity(data, r)\n",
    "    arr = value_of_parity(arr, r)\n",
    "    print(\"Data Sending :\",arr)\n",
    "    ind = np.random.randint(1,m+r)\n",
    "    arr = arr[:ind]+str(int(not int(arr[ind])))+arr[ind+1:]\n",
    "    print(\"Error data \",arr)\n",
    "    correction = detect_error(arr,r)\n",
    "    if(correction==0):\n",
    "        print(\"There is no error in the received message.\")\n",
    "    else:\n",
    "        print(\"The position of error is \",len(arr)-correction+1,\"from the left\")"
   ]
  },
  {
   "cell_type": "code",
   "execution_count": 7,
   "id": "52cf4e74",
   "metadata": {},
   "outputs": [
    {
     "name": "stdout",
     "output_type": "stream",
     "text": [
      "Enter the message1010\n",
      "Data Sending : 1010010\n",
      "Error data  1110010\n",
      "The position of error is  2 from the left\n"
     ]
    }
   ],
   "source": [
    "import numpy as np\n",
    "main()"
   ]
  },
  {
   "cell_type": "code",
   "execution_count": null,
   "id": "c97c0b71",
   "metadata": {},
   "outputs": [],
   "source": []
  }
 ],
 "metadata": {
  "kernelspec": {
   "display_name": "Python 3 (ipykernel)",
   "language": "python",
   "name": "python3"
  },
  "language_info": {
   "codemirror_mode": {
    "name": "ipython",
    "version": 3
   },
   "file_extension": ".py",
   "mimetype": "text/x-python",
   "name": "python",
   "nbconvert_exporter": "python",
   "pygments_lexer": "ipython3",
   "version": "3.9.12"
  }
 },
 "nbformat": 4,
 "nbformat_minor": 5
}
