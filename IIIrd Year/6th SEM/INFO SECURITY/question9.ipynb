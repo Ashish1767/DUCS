{
 "cells": [
  {
   "cell_type": "code",
   "execution_count": 1,
   "id": "c60f919b",
   "metadata": {},
   "outputs": [],
   "source": [
    "def sub_encrypt(msg,key): \n",
    "    enc_msg = \"\"\n",
    "    for i in msg:\n",
    "        enc_msg+=(chr(ord(i)+key))\n",
    "    return enc_msg"
   ]
  },
  {
   "cell_type": "code",
   "execution_count": 2,
   "id": "184ad69f",
   "metadata": {},
   "outputs": [],
   "source": [
    "def alph_encrypt(msg, key):\n",
    "    i = 0\n",
    "    if len(msg)>len(key):\n",
    "        while len(msg) != len(key):\n",
    "            key+=key[i]\n",
    "            i=i+1\n",
    "    else:\n",
    "        pass\n",
    "    enc_msg = \"\"\n",
    "    for i in range(len(msg)):\n",
    "        enc_msg+=chr(((ord(msg[i])-97+ord(key[i])-97)%26)+97)\n",
    "    return enc_msg"
   ]
  },
  {
   "cell_type": "code",
   "execution_count": 3,
   "id": "4509c127",
   "metadata": {},
   "outputs": [],
   "source": [
    "def product_cipher_encrypt(message, key):\n",
    "    sub_key = len(key);\n",
    "    intermediate_text = sub_encrypt(message, sub_key)\n",
    "    ciphertext = alph_encrypt(intermediate_text, key)\n",
    "    \n",
    "    return ciphertext\n"
   ]
  },
  {
   "cell_type": "code",
   "execution_count": 4,
   "id": "b06ee3ff",
   "metadata": {},
   "outputs": [
    {
     "name": "stdout",
     "output_type": "stream",
     "text": [
      "eosuwddapwywm\n"
     ]
    }
   ],
   "source": [
    "print(product_cipher_encrypt('ashishsolanki','ashi'))"
   ]
  },
  {
   "cell_type": "code",
   "execution_count": null,
   "id": "4c799e3d",
   "metadata": {},
   "outputs": [],
   "source": []
  }
 ],
 "metadata": {
  "kernelspec": {
   "display_name": "Python 3 (ipykernel)",
   "language": "python",
   "name": "python3"
  },
  "language_info": {
   "codemirror_mode": {
    "name": "ipython",
    "version": 3
   },
   "file_extension": ".py",
   "mimetype": "text/x-python",
   "name": "python",
   "nbconvert_exporter": "python",
   "pygments_lexer": "ipython3",
   "version": "3.10.7"
  }
 },
 "nbformat": 4,
 "nbformat_minor": 5
}
