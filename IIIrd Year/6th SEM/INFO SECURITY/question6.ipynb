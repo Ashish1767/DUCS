{
 "cells": [
  {
   "cell_type": "code",
   "execution_count": 3,
   "id": "1508ad66",
   "metadata": {},
   "outputs": [
    {
     "name": "stdout",
     "output_type": "stream",
     "text": [
      "3 9\n"
     ]
    }
   ],
   "source": [
    "while True:\n",
    "    msg = input(\"Enter the message\")\n",
    "    n = len(msg)\n",
    "    key = input(\"Enter the key\")\n",
    "    k = len(key)\n",
    "    \n",
    "    if not n*n == k:\n",
    "        print(\"length not acceptable\")\n",
    "        ch = int(input(\"Do you want to change the data(1/0)\"))\n",
    "        if ch != 1:\n",
    "            break\n",
    "    else:\n",
    "        break\n",
    "print(n,k)"
   ]
  },
  {
   "cell_type": "code",
   "execution_count": 4,
   "id": "8aab0777",
   "metadata": {},
   "outputs": [],
   "source": [
    "import numpy as np\n",
    "msg_matrix = []\n",
    "for i in range(n):\n",
    "    msg_matrix.append(ord(msg[i])%97)\n",
    "msg_matrix = np.array(msg_matrix).reshape(n,1)"
   ]
  },
  {
   "cell_type": "code",
   "execution_count": 5,
   "id": "91bf884a",
   "metadata": {},
   "outputs": [
    {
     "data": {
      "text/plain": [
       "array([[ 0],\n",
       "       [18],\n",
       "       [ 7]])"
      ]
     },
     "execution_count": 5,
     "metadata": {},
     "output_type": "execute_result"
    }
   ],
   "source": [
    "msg_matrix"
   ]
  },
  {
   "cell_type": "code",
   "execution_count": 6,
   "id": "597fcdcc",
   "metadata": {},
   "outputs": [],
   "source": [
    "key_matrix = []\n",
    "for i in range(k):\n",
    "    key_matrix.append(ord(key[i])%97)\n",
    "key_matrix = np.array(key_matrix).reshape(n,n)"
   ]
  },
  {
   "cell_type": "code",
   "execution_count": 7,
   "id": "dfc0942b",
   "metadata": {},
   "outputs": [
    {
     "data": {
      "text/plain": [
       "array([[0, 1, 2],\n",
       "       [3, 4, 5],\n",
       "       [6, 7, 8]])"
      ]
     },
     "execution_count": 7,
     "metadata": {},
     "output_type": "execute_result"
    }
   ],
   "source": [
    "key_matrix"
   ]
  },
  {
   "cell_type": "code",
   "execution_count": 8,
   "id": "ff8c4ad6",
   "metadata": {},
   "outputs": [
    {
     "data": {
      "text/plain": [
       "array([103, 100,  97], dtype=int32)"
      ]
     },
     "execution_count": 8,
     "metadata": {},
     "output_type": "execute_result"
    }
   ],
   "source": [
    "result = np.dot(key_matrix,msg_matrix).reshape(n)\n",
    "result = (result%26)+97\n",
    "result"
   ]
  },
  {
   "cell_type": "code",
   "execution_count": 9,
   "id": "553b068c",
   "metadata": {},
   "outputs": [
    {
     "data": {
      "text/plain": [
       "'gda'"
      ]
     },
     "execution_count": 9,
     "metadata": {},
     "output_type": "execute_result"
    }
   ],
   "source": [
    "result_matrix = []\n",
    "for i in range(n):\n",
    "    result_matrix.append(chr(result[i]))\n",
    "result_matrix = np.array(result_matrix).reshape(1,n)\n",
    "    \n",
    "enc_msg = \"\"\n",
    "for row in result_matrix:\n",
    "    for el in row:\n",
    "        enc_msg += el\n",
    "enc_msg"
   ]
  },
  {
   "cell_type": "code",
   "execution_count": null,
   "id": "27d72442",
   "metadata": {},
   "outputs": [],
   "source": []
  }
 ],
 "metadata": {
  "kernelspec": {
   "display_name": "Python 3 (ipykernel)",
   "language": "python",
   "name": "python3"
  },
  "language_info": {
   "codemirror_mode": {
    "name": "ipython",
    "version": 3
   },
   "file_extension": ".py",
   "mimetype": "text/x-python",
   "name": "python",
   "nbconvert_exporter": "python",
   "pygments_lexer": "ipython3",
   "version": "3.10.7"
  }
 },
 "nbformat": 4,
 "nbformat_minor": 5
}
