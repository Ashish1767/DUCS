{
 "cells": [
  {
   "cell_type": "code",
   "execution_count": 1,
   "metadata": {},
   "outputs": [
    {
     "name": "stdout",
     "output_type": "stream",
     "text": [
      "['a', 's', 'h', 'i', 's', 'h']\n",
      "dvklvk\n",
      "['d', 'v', 'k', 'l', 'v', 'k']\n"
     ]
    }
   ],
   "source": [
    "import numpy as np\n",
    "import pandas as pd\n",
    "sender=input(\"enter the list\")\n",
    "print(list(sender))\n",
    "key=int(input(\"enter the key\"))\n",
    "c=[]\n",
    "for i in sender:  #for every letter in loop \n",
    "    for word in i:# for that letter\n",
    "        char=ord(word)# char to ascii value\n",
    "        char=char+key\n",
    "        word=chr(char)\n",
    "        c.append(word)\n",
    "receiver=''.join([str(chars) for chars in c])\n",
    "print(receiver)\n",
    "print(list(receiver))\n",
    "\n",
    " "
   ]
  },
  {
   "cell_type": "code",
   "execution_count": null,
   "metadata": {},
   "outputs": [],
   "source": []
  }
 ],
 "metadata": {
  "kernelspec": {
   "display_name": "Python 3",
   "language": "python",
   "name": "python3"
  },
  "language_info": {
   "codemirror_mode": {
    "name": "ipython",
    "version": 3
   },
   "file_extension": ".py",
   "mimetype": "text/x-python",
   "name": "python",
   "nbconvert_exporter": "python",
   "pygments_lexer": "ipython3",
   "version": "3.10.7"
  },
  "orig_nbformat": 4,
  "vscode": {
   "interpreter": {
    "hash": "67e0cbc25fa4f5baaacba1240f401bc655b640f8e15cfc935dfee2e63491bdf4"
   }
  }
 },
 "nbformat": 4,
 "nbformat_minor": 2
}
