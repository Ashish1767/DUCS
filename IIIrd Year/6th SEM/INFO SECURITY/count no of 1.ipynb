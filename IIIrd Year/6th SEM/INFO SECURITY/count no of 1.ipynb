{
 "cells": [
  {
   "cell_type": "code",
   "execution_count": 1,
   "metadata": {},
   "outputs": [
    {
     "name": "stdout",
     "output_type": "stream",
     "text": [
      "01010\n",
      "2\n",
      "parity is even 2\n",
      "010100\n"
     ]
    }
   ],
   "source": [
    "\n",
    "import numpy as np\n",
    "a=str(input(\"enter a string of 0 and 1\"))\n",
    "print(a)\n",
    "count=a.count(\"1\")\n",
    "print(count)\n",
    "if(count%2==0):\n",
    "    print(\"parity is even\",count)\n",
    "    a1=a+\"0\"\n",
    "    \n",
    "else:\n",
    "    print(\"parity is odd\",count)\n",
    "    a1=a+\"1\"\n",
    "print(a1)"
   ]
  },
  {
   "cell_type": "code",
   "execution_count": 2,
   "metadata": {},
   "outputs": [
    {
     "name": "stdout",
     "output_type": "stream",
     "text": [
      "enter the values\n",
      "[[0 0 0]\n",
      " [1 1 1]]\n",
      "2\n"
     ]
    }
   ],
   "source": [
    "import numpy as np\n",
    "r=int(input(\"enter the no of rows:\"))\n",
    "c=int(input(\"enter the no of columns:\"))\n",
    "print(\"enter the values\")\n",
    "val=list(map(int,input().split()))\n",
    "mat=np.array(val).reshape(r,c) \n",
    "print(mat)\n",
    "\n",
    "\n"
   ]
  }
 ],
 "metadata": {
  "kernelspec": {
   "display_name": "Python 3",
   "language": "python",
   "name": "python3"
  },
  "language_info": {
   "codemirror_mode": {
    "name": "ipython",
    "version": 3
   },
   "file_extension": ".py",
   "mimetype": "text/x-python",
   "name": "python",
   "nbconvert_exporter": "python",
   "pygments_lexer": "ipython3",
   "version": "3.10.7"
  },
  "orig_nbformat": 4,
  "vscode": {
   "interpreter": {
    "hash": "67e0cbc25fa4f5baaacba1240f401bc655b640f8e15cfc935dfee2e63491bdf4"
   }
  }
 },
 "nbformat": 4,
 "nbformat_minor": 2
}
