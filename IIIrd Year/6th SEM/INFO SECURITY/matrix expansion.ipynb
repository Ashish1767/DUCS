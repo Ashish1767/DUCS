{
 "cells": [
  {
   "cell_type": "code",
   "execution_count": 8,
   "metadata": {},
   "outputs": [
    {
     "name": "stdout",
     "output_type": "stream",
     "text": [
      "enter the values\n",
      "[[0 1 1 1]\n",
      " [0 0 0 0]\n",
      " [1 1 1 1]\n",
      " [0 0 1 0]]\n",
      "[[0 1 1 1 1]\n",
      " [0 0 0 0 0]\n",
      " [1 1 1 1 0]\n",
      " [0 0 1 0 1]]\n",
      "[[0 1 1 1 1]\n",
      " [0 0 0 0 0]\n",
      " [1 1 1 1 0]\n",
      " [0 0 1 0 1]\n",
      " [1 0 1 0 0]]\n"
     ]
    }
   ],
   "source": [
    "import numpy as np\n",
    "r=int(input(\"enter the no of rows:\"))\n",
    "c=int(input(\"enter the no of columns:\"))\n",
    "print(\"enter the values\")\n",
    "val=list(map(int,input().split()))\n",
    "mat=np.array(val).reshape(r,c) \n",
    "print(mat)\n",
    "a=[]\n",
    "for i in range(r):\n",
    "  s=0\n",
    "  for j in range(r):\n",
    "    s=s+mat[i][j]\n",
    "  if s%2==0:\n",
    "    a.append(0)\n",
    "  else:\n",
    "    a.append(1)\n",
    "x=np.insert(mat,r,a,axis=1)\n",
    "print(x)\n",
    "a=[]\n",
    "for j in range(r+1):\n",
    "  s=0\n",
    "  for i in range(r):\n",
    "    s=s+x[i][j]\n",
    "  if s%2==0:\n",
    "    a.append(0)\n",
    "  else:\n",
    "    a.append(1)\n",
    "y=np.insert(x,r,a,axis=0)\n",
    "print(y)"
   ]
  }
 ],
 "metadata": {
  "kernelspec": {
   "display_name": "Python 3",
   "language": "python",
   "name": "python3"
  },
  "language_info": {
   "codemirror_mode": {
    "name": "ipython",
    "version": 3
   },
   "file_extension": ".py",
   "mimetype": "text/x-python",
   "name": "python",
   "nbconvert_exporter": "python",
   "pygments_lexer": "ipython3",
   "version": "3.10.7 (tags/v3.10.7:6cc6b13, Sep  5 2022, 14:08:36) [MSC v.1933 64 bit (AMD64)]"
  },
  "orig_nbformat": 4,
  "vscode": {
   "interpreter": {
    "hash": "67e0cbc25fa4f5baaacba1240f401bc655b640f8e15cfc935dfee2e63491bdf4"
   }
  }
 },
 "nbformat": 4,
 "nbformat_minor": 2
}
