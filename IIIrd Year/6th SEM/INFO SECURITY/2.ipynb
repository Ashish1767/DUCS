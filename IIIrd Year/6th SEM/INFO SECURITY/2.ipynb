{
 "cells": [
  {
   "cell_type": "code",
   "execution_count": null,
   "metadata": {},
   "outputs": [],
   "source": [
    "def remove_zeros(msg):\n",
    "    i=0\n",
    "    while i < len(msg):\n",
    "        if msg[i] == 0:\n",
    "            msg = np.delete(msg,i)\n",
    "            i-=1\n",
    "        else:\n",
    "            break\n",
    "        i+=1\n",
    "    return msg\n",
    "def append_zeros(msg,len):\n",
    "    zeros = np.zeros(len,dtype=int)\n",
    "    msg = np.append(msg,zeros)\n",
    "    return msg\n",
    "#message input\n",
    "import numpy as np\n",
    "msg = np.array([int(x) for x in input(\"Enter the message\").split(' ')])\n",
    "msg = remove_zeros(msg)\n",
    "# print(msg)\n",
    "m_len = len(msg)\n",
    "# print(m_len)"
   ]
  },
  {
   "cell_type": "code",
   "execution_count": null,
   "metadata": {},
   "outputs": [],
   "source": [
    "#divisor input\n",
    "div = np.array([int(x) for x in input(\"Enter the divisor\").split(' ')])\n",
    "div = remove_zeros(div)\n",
    "# print(div)\n",
    "d_len = len(div)\n",
    "# print(d_len)"
   ]
  },
  {
   "cell_type": "code",
   "execution_count": null,
   "metadata": {},
   "outputs": [],
   "source": [
    "#zeros appended\n",
    "msg = append_zeros(msg,d_len-1)\n",
    "# print(msg)\n",
    "temp = msg.copy()\n",
    "i = 0\n",
    "while i<len(temp):\n",
    "    if div[0] == temp[i]:\n",
    "        j = 0\n",
    "        k = i\n",
    "        while j< len(div):\n",
    "            if len(div)>=(len(temp)-i):\n",
    "                break\n",
    "            if temp[k]^div[j]==1:\n",
    "                temp[k]=1; \n",
    "            else: \n",
    "                temp[k]=0;\n",
    "            j+=1\n",
    "            k+=1\n",
    "    i+=1\n",
    "    if len(div)>=(len(temp)-i):\n",
    "        break\n",
    "print(temp)"
   ]
  },
  {
   "cell_type": "code",
   "execution_count": null,
   "metadata": {},
   "outputs": [],
   "source": [
    "to_append =temp[len(msg)-d_len+1:]\n",
    "msg = np.delete(msg,np.arange(len(msg)-d_len+1,len(msg)))\n",
    "msg\n",
    "t = msg\n",
    "final_msg = np.append(t,to_append)\n",
    "print(final_msg)"
   ]
  },
  {
   "cell_type": "code",
   "execution_count": null,
   "metadata": {},
   "outputs": [],
   "source": [
    "print(\"*****--------Sender - Side------*****\\n\")\n",
    "print(\"Sending message to reciever-\\|/-\\|/-\\|/-\\n\")\n",
    "print(\"Data Send : \",final_msg)\n",
    "hack = np.random.randint(0,2)\n",
    "if hack != 0:\n",
    "    bit = np.random.randint(0,len(final_msg))\n",
    "    final_msg[bit] = int(not final_msg[bit])\n",
    "\n",
    "print(\"*****--------Reciever - Side------*****\\n\")   \n",
    "print(\"Data Received : \",final_msg)   \n",
    "temp = final_msg.copy()\n",
    "i = 0\n",
    "while i<len(temp):\n",
    "    if div[0] == temp[i]:\n",
    "        j = 0\n",
    "        k = i\n",
    "        while j< len(div):\n",
    "            if len(div)>=(len(temp)-i):\n",
    "                break\n",
    "            if temp[k]^div[j]==1:\n",
    "                temp[k]=1; \n",
    "            else: \n",
    "                temp[k]=0;\n",
    "            j+=1\n",
    "            k+=1\n",
    "    i+=1\n",
    "    if len(div)>=(len(temp)-i):\n",
    "        break\n",
    "flag = True\n",
    "for i,j in zip(np.zeros(len(temp),dtype=int),temp):\n",
    "    if i != j:\n",
    "        flag = False\n",
    "        break\n",
    "\n",
    "if flag == True:\n",
    "    print(\"Message not changed\")\n",
    "else:\n",
    "    print(\"Message got changed\")"
   ]
  }
 ],
 "metadata": {
  "kernelspec": {
   "display_name": "Python 3",
   "language": "python",
   "name": "python3"
  },
  "language_info": {
   "name": "python",
   "version": "3.10.7"
  },
  "orig_nbformat": 4
 },
 "nbformat": 4,
 "nbformat_minor": 2
}
