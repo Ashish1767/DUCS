{
 "cells": [
  {
   "cell_type": "code",
   "execution_count": 103,
   "id": "1465614c",
   "metadata": {},
   "outputs": [],
   "source": [
    "import numpy as np"
   ]
  },
  {
   "cell_type": "code",
   "execution_count": 104,
   "id": "663681bb",
   "metadata": {},
   "outputs": [],
   "source": [
    "msg=str(input(\"enter the message\"))\n",
    "key=int(input(\"enter the key\"))"
   ]
  },
  {
   "cell_type": "code",
   "execution_count": 105,
   "id": "0f92616c",
   "metadata": {},
   "outputs": [],
   "source": [
    "mat = np.zeros((key,len(msg)),dtype='str')"
   ]
  },
  {
   "cell_type": "code",
   "execution_count": 106,
   "id": "164a12ad",
   "metadata": {},
   "outputs": [
    {
     "data": {
      "text/plain": [
       "array([['', '', '', '', '', '', '', '', '', '', ''],\n",
       "       ['', '', '', '', '', '', '', '', '', '', ''],\n",
       "       ['', '', '', '', '', '', '', '', '', '', '']], dtype='<U1')"
      ]
     },
     "execution_count": 106,
     "metadata": {},
     "output_type": "execute_result"
    }
   ],
   "source": [
    "mat"
   ]
  },
  {
   "cell_type": "code",
   "execution_count": 107,
   "id": "1eae9e3f",
   "metadata": {},
   "outputs": [
    {
     "name": "stdout",
     "output_type": "stream",
     "text": [
      "[['h' '' '' '' 'o' '' '' '' 'r' '' '']\n",
      " ['' 'e' '' 'l' '' ' ' '' 'o' '' 'l' '']\n",
      " ['' '' 'l' '' '' '' 'w' '' '' '' 'd']]\n",
      "Encrypted message =  horel ollwd\n"
     ]
    }
   ],
   "source": [
    "dir_down = False\n",
    "row, col = 0, 0\n",
    "for i in range(len(msg)):\n",
    "    if (row == 0) or (row == key - 1):\n",
    "        dir_down = not dir_down\n",
    "    mat[row][col] = msg[i]\n",
    "    col += 1\n",
    "    if dir_down:\n",
    "        row += 1\n",
    "    else:\n",
    "        row -= 1\n",
    "print(mat)\n",
    "result = []\n",
    "for i in range(key):\n",
    "    for j in range(len(msg)):\n",
    "        if mat[i][j] != '':\n",
    "            result.append(mat[i][j])\n",
    "result = \"\" . join(result)\n",
    "print(\"Encrypted message = \",result)\n"
   ]
  },
  {
   "cell_type": "code",
   "execution_count": null,
   "id": "60ea5d08",
   "metadata": {},
   "outputs": [],
   "source": []
  },
  {
   "cell_type": "code",
   "execution_count": null,
   "id": "d9bb0028",
   "metadata": {},
   "outputs": [],
   "source": []
  }
 ],
 "metadata": {
  "kernelspec": {
   "display_name": "Python 3 (ipykernel)",
   "language": "python",
   "name": "python3"
  },
  "language_info": {
   "codemirror_mode": {
    "name": "ipython",
    "version": 3
   },
   "file_extension": ".py",
   "mimetype": "text/x-python",
   "name": "python",
   "nbconvert_exporter": "python",
   "pygments_lexer": "ipython3",
   "version": "3.10.7"
  }
 },
 "nbformat": 4,
 "nbformat_minor": 5
}
