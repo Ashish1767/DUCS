{
 "cells": [
  {
   "cell_type": "code",
   "execution_count": null,
   "metadata": {},
   "outputs": [],
   "source": []
  },
  {
   "cell_type": "markdown",
   "metadata": {},
   "source": [
    "\n",
    "##function. Replace 10% of the values by null values whose index positions are generated using random function.<br>\n",
    "##a. Identify and count missing values in a dataframe.<br>\n",
    "##b. Drop the column having more than 5 null values.<br>\n",
    "##c. Identify the row label having maximum of the sum of all values in a row and drop that row.<br>\n",
    "##d. Sort the dataframe on the basis of the first column.<br>\n",
    "##e. Remove all duplicates from the first column."
   ]
  },
  {
   "cell_type": "code",
   "execution_count": null,
   "metadata": {},
   "outputs": [],
   "source": [
    "import pandas as pd\n",
    "import numpy as np\n",
    "r=np.random.randint(0,150,size=(50,3))\n",
    "df=pd.DataFrame(r,columns=['a','b','c'])\n",
    "df\n",
    "print(\" \")\n",
    "print(\" \")\n",
    "a1=0.1*(df.shape[1]*df.shape[0])\n",
    "for i in range(int(a1)):\n",
    "    id1=np.random.randint(0,50)\n",
    "    id2=np.random.randint(0,3)\n",
    "    df.loc[id1,df.columns[id2]]=np.nan\n",
    "print('after adding nan values')\n",
    "print(df)\n",
    "print(\" \")\n",
    "print(\" \")\n"
   ]
  },
  {
   "cell_type": "code",
   "execution_count": null,
   "metadata": {},
   "outputs": [],
   "source": [
    "#a\n",
    "a=df.isnull().sum()\n",
    "print(\"counting null values\",a)\n",
    "a1=df.isnull().sum().sum()\n",
    "print(\"total null values\",a1)\n",
    "print(\" \")\n",
    "print(\" \")"
   ]
  },
  {
   "cell_type": "code",
   "execution_count": null,
   "metadata": {},
   "outputs": [],
   "source": [
    "#b\n",
    "b=df.dropna(axis=1,thresh=df.shape[0]-5)\n",
    "print(\"droping  column with more than 5  null values\")\n",
    "print(b)\n",
    "print(\" \")\n",
    "print(\" \")"
   ]
  },
  {
   "cell_type": "code",
   "execution_count": null,
   "metadata": {},
   "outputs": [],
   "source": [
    "#c\n",
    "rowSum=df.sum(axis=1)\n",
    "index=rowSum.idxmax(axis=0)\n",
    "print( \" row with max sum==\",index)\n",
    "\n",
    "print(rowSum.drop(index))\n",
    "print(\" \")\n",
    "print(\" \")"
   ]
  },
  {
   "cell_type": "code",
   "execution_count": null,
   "metadata": {},
   "outputs": [],
   "source": [
    "#d\n",
    "c=df.sort_values( by='a')\n",
    "print( \"sorting according to first column\")\n",
    "print(c)\n",
    "print(\" \")\n",
    "print(\" \")"
   ]
  },
  {
   "cell_type": "code",
   "execution_count": null,
   "metadata": {},
   "outputs": [],
   "source": [
    "d8=df[df.duplicated()]\n",
    "print(\"DED\",d8)\n",
    "d=df.drop_duplicates(subset='a',keep=False)\n",
    "print(\"after removing duplicates\",d)\n",
    "print(\" \")\n",
    "print(\" \")"
   ]
  },
  {
   "cell_type": "code",
   "execution_count": null,
   "metadata": {},
   "outputs": [],
   "source": [
    "#f\n",
    "e1=df['a'].corr(df['b'])\n",
    "print(\"correlation= \",e1)\n",
    "e2=df['b'].cov(df['c'])\n",
    "print(\"covarience= \",e2)\n",
    "print(\" \")\n",
    "print(\" \")"
   ]
  },
  {
   "cell_type": "code",
   "execution_count": 45,
   "metadata": {},
   "outputs": [
    {
     "name": "stdout",
     "output_type": "stream",
     "text": [
      " \n",
      "ll -104.875\n",
      "ul: 240.125\n",
      "         a      b      c\n",
      "0     18.0  131.0  124.0\n",
      "1    146.0   91.0    NaN\n",
      "2      NaN   31.0   61.0\n",
      "3     75.0   64.0   48.0\n",
      "4    135.0   82.0    NaN\n",
      "5      5.0    1.0   55.0\n",
      "6    149.0  104.0    6.0\n",
      "7     19.0   69.0  115.0\n",
      "8     43.0  126.0  149.0\n",
      "9     47.0  147.0   51.0\n",
      "10   140.0   23.0   55.0\n",
      "11    12.0   61.0  131.0\n",
      "12   147.0  126.0   45.0\n",
      "13   135.0  111.0  135.0\n",
      "14    72.0  102.0  102.0\n",
      "15   134.0   29.0  134.0\n",
      "16    89.0  131.0  129.0\n",
      "17    74.0  119.0  122.0\n",
      "18     3.0   87.0    NaN\n",
      "19   129.0  129.0   10.0\n",
      "20    15.0    NaN    NaN\n",
      "21     1.0   69.0  109.0\n",
      "22   138.0  127.0  106.0\n",
      "23    59.0   37.0   85.0\n",
      "24   110.0  116.0   30.0\n",
      "25   141.0    2.0   61.0\n",
      "26   121.0   42.0  120.0\n",
      "27    26.0  106.0  146.0\n",
      "28     6.0    NaN   43.0\n",
      "29    95.0  115.0   57.0\n",
      "30    19.0    NaN    NaN\n",
      "31    31.0  110.0  149.0\n",
      "32   108.0   64.0   89.0\n",
      "33    64.0   26.0  120.0\n",
      "34    21.0  105.0  121.0\n",
      "35     NaN   79.0  104.0\n",
      "36    92.0    0.0    NaN\n",
      "37     NaN   60.0   68.0\n",
      "38   118.0   33.0  103.0\n",
      "39    24.0   87.0  120.0\n",
      "40   107.0  143.0   93.0\n",
      "41    77.0   61.0  147.0\n",
      "42   107.0   17.0  108.0\n",
      "43    37.0   93.0  125.0\n",
      "44    35.0   82.0   94.0\n",
      "45    14.0   29.0   70.0\n",
      "46     NaN    6.0  136.0\n",
      "47   148.0    NaN    4.0\n",
      "48    46.0    7.0  143.0\n",
      "49    46.0   87.0  113.0\n",
      "50 -1000.0  200.0  100.0\n",
      "51   500.0  400.0  300.0\n",
      "indexes are:  [51 51 51]\n",
      "         a      b      c\n",
      "0     18.0  131.0  124.0\n",
      "1    146.0   91.0    NaN\n",
      "2      NaN   31.0   61.0\n",
      "3     75.0   64.0   48.0\n",
      "4    135.0   82.0    NaN\n",
      "5      5.0    1.0   55.0\n",
      "6    149.0  104.0    6.0\n",
      "7     19.0   69.0  115.0\n",
      "8     43.0  126.0  149.0\n",
      "9     47.0  147.0   51.0\n",
      "10   140.0   23.0   55.0\n",
      "11    12.0   61.0  131.0\n",
      "12   147.0  126.0   45.0\n",
      "13   135.0  111.0  135.0\n",
      "14    72.0  102.0  102.0\n",
      "15   134.0   29.0  134.0\n",
      "16    89.0  131.0  129.0\n",
      "17    74.0  119.0  122.0\n",
      "18     3.0   87.0    NaN\n",
      "19   129.0  129.0   10.0\n",
      "20    15.0    NaN    NaN\n",
      "21     1.0   69.0  109.0\n",
      "22   138.0  127.0  106.0\n",
      "23    59.0   37.0   85.0\n",
      "24   110.0  116.0   30.0\n",
      "25   141.0    2.0   61.0\n",
      "26   121.0   42.0  120.0\n",
      "27    26.0  106.0  146.0\n",
      "28     6.0    NaN   43.0\n",
      "29    95.0  115.0   57.0\n",
      "30    19.0    NaN    NaN\n",
      "31    31.0  110.0  149.0\n",
      "32   108.0   64.0   89.0\n",
      "33    64.0   26.0  120.0\n",
      "34    21.0  105.0  121.0\n",
      "35     NaN   79.0  104.0\n",
      "36    92.0    0.0    NaN\n",
      "37     NaN   60.0   68.0\n",
      "38   118.0   33.0  103.0\n",
      "39    24.0   87.0  120.0\n",
      "40   107.0  143.0   93.0\n",
      "41    77.0   61.0  147.0\n",
      "42   107.0   17.0  108.0\n",
      "43    37.0   93.0  125.0\n",
      "44    35.0   82.0   94.0\n",
      "45    14.0   29.0   70.0\n",
      "46     NaN    6.0  136.0\n",
      "47   148.0    NaN    4.0\n",
      "48    46.0    7.0  143.0\n",
      "49    46.0   87.0  113.0\n",
      "50 -1000.0  200.0  100.0\n"
     ]
    }
   ],
   "source": [
    "#g\n",
    "print(\" \")\n",
    "a1=df['a'].quantile(0.25)\n",
    "a2=df['b'].quantile(0.75)\n",
    "\n",
    "\n",
    "iqr=a2-a1\n",
    "\n",
    "ub=a2+1.5*iqr\n",
    "lb=a1-1.5*iqr\n",
    "print(\"ll\",lb)\n",
    "print(\"ul:\",ub)\n",
    "\n",
    "\n",
    "new_row={'a':[-1000,500],'b':[200,400],'c':[100,300]}\n",
    "new_df=pd.concat([df,pd.DataFrame(new_row)],ignore_index=True)\n",
    "print(new_df)\n",
    "index=np.where((new_df['a']<lb) | (new_df>ub))  \n",
    "print(\"indexes are: \",index[0])\n",
    "new_df.drop(index[0],inplace=True)\n",
    "print(new_df)\n",
    "\n",
    "\n"
   ]
  },
  {
   "cell_type": "code",
   "execution_count": null,
   "metadata": {},
   "outputs": [],
   "source": [
    "\n",
    "#h\n",
    "h=pd.qcut(new_df[\"b\"],5)\n",
    "h1=pd.value_counts(h)\n",
    "print(h1)\n"
   ]
  }
 ],
 "metadata": {
  "kernelspec": {
   "display_name": "Python 3.10.7 64-bit",
   "language": "python",
   "name": "python3"
  },
  "language_info": {
   "codemirror_mode": {
    "name": "ipython",
    "version": 3
   },
   "file_extension": ".py",
   "mimetype": "text/x-python",
   "name": "python",
   "nbconvert_exporter": "python",
   "pygments_lexer": "ipython3",
   "version": "3.10.7"
  },
  "orig_nbformat": 4,
  "vscode": {
   "interpreter": {
    "hash": "67e0cbc25fa4f5baaacba1240f401bc655b640f8e15cfc935dfee2e63491bdf4"
   }
  }
 },
 "nbformat": 4,
 "nbformat_minor": 2
}
