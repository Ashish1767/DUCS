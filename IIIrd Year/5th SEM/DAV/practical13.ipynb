{
  "cells": [
    {
      "cell_type": "code",
      "execution_count": 3,
      "metadata": {
        "colab": {
          "base_uri": "https://localhost:8080/"
        },
        "id": "Q50AGk_31esO",
        "outputId": "dd818743-2e40-47ed-9778-8b1ca4747ded"
      },
      "outputs": [
        {
          "name": "stdout",
          "output_type": "stream",
          "text": [
            "[30 32 34 36 38 40 42 44 46 48 50 52 54 56 58 60 62 64 66 68 70]\n",
            "--------------------\n",
            "\n",
            "[[1. 1. 1. 1. 1. 1. 1. 1. 1. 1.]\n",
            " [1. 0. 0. 0. 0. 0. 0. 0. 0. 1.]\n",
            " [1. 0. 0. 0. 0. 0. 0. 0. 0. 1.]\n",
            " [1. 0. 0. 0. 0. 0. 0. 0. 0. 1.]\n",
            " [1. 0. 0. 0. 0. 0. 0. 0. 0. 1.]\n",
            " [1. 0. 0. 0. 0. 0. 0. 0. 0. 1.]\n",
            " [1. 0. 0. 0. 0. 0. 0. 0. 0. 1.]\n",
            " [1. 0. 0. 0. 0. 0. 0. 0. 0. 1.]\n",
            " [1. 0. 0. 0. 0. 0. 0. 0. 0. 1.]\n",
            " [1. 1. 1. 1. 1. 1. 1. 1. 1. 1.]]\n",
            "--------------------\n",
            "\n",
            "[[ 1  2  3  4  5  6  7  8  9 10]\n",
            " [11 12 13 14 15 16 17 18 19 20]\n",
            " [21 22 23 24 25 26 27 28 29 30]\n",
            " [31 32 33 34 35 36 37 38 39 40]\n",
            " [41 42 43 44 45 46 47 48 49 50]]\n",
            "after swapping\n",
            "[[ 1  2  4  3  5  6  7  8  9 10]\n",
            " [11 12 14 13 15 16 17 18 19 20]\n",
            " [21 22 24 23 25 26 27 28 29 30]\n",
            " [31 32 34 33 35 36 37 38 39 40]\n",
            " [41 42 44 43 45 46 47 48 49 50]]\n",
            "--------------------\n",
            "\n",
            "[[ 1  2  4  3  5  6  7  8  9 10]\n",
            " [11 12 14 13 15 16 17 18 19 20]\n",
            " [21 22 24 23 25 26 27 28 29 30]\n",
            " [31 32 34 33 35 36 37 38 39 40]\n",
            " [41 42 44 43 45 46 47 48 49 50]]\n",
            "after swapping\n",
            "[[ 1  2  3  4  5  6  7  8  9 10]\n",
            " [11 12 13 14 15 16 17 18 19 20]\n",
            " [31 32 33 34 35 36 37 38 39 40]\n",
            " [21 22 23 24 25 26 27 28 29 30]\n",
            " [41 42 43 44 45 46 47 48 49 50]]\n",
            "--------------------\n",
            "\n",
            "[[1 2 3]\n",
            " [4 5 6]\n",
            " [7 8 9]]\n",
            "[[10 11 12]\n",
            " [13 14 15]\n",
            " [16 17 18]]\n",
            "[[11 13 15]\n",
            " [17 19 21]\n",
            " [23 25 27]]\n",
            "[[3.31662479 3.60555128 3.87298335]\n",
            " [4.12310563 4.35889894 4.58257569]\n",
            " [4.79583152 5.         5.19615242]]\n",
            "--------------------\n",
            "\n",
            "[[100 110]\n",
            " [120 130]\n",
            " [140 150]\n",
            " [160 170]\n",
            " [180 190]]\n",
            "(array([1, 2, 4], dtype=int64), array([0, 1, 0], dtype=int64))\n",
            "indices where elements are divisible: [(1, 0), (2, 1), (4, 0)]\n"
          ]
        }
      ],
      "source": [
        "import numpy as np\n",
        "#a\n",
        "arr=np.arange(30,71,2)\n",
        "print(arr)\n",
        "\n",
        "print(\"--------------------\\n\")\n",
        "#b\n",
        "arr1=np.ones((10,10))\n",
        "arr1[1:-1,1:-1]=0\n",
        "print(arr1)\n",
        "\n",
        "print(\"--------------------\\n\")\n",
        "#c\n",
        "arr2=np.arange(1,51).reshape(5,10)\n",
        "print(arr2)\n",
        "arr2[:,[3,2] ]= arr2[:,[2,3] ]\n",
        "print(\"after swapping\")\n",
        "print(arr2)\n",
        "\n",
        "print(\"--------------------\\n\")\n",
        "#d\n",
        "arr3=np.arange(1,51).reshape(5,10)\n",
        "print(arr2)\n",
        "arr3[[3,2],: ]= arr3[[2,3],: ]\n",
        "print(\"after swapping\")\n",
        "print(arr3)\n",
        "\n",
        "print(\"--------------------\\n\")\n",
        "#e\n",
        "arr4=np.arange(1,10).reshape(3,3)\n",
        "arr5=np.arange(10,19).reshape(3,3)\n",
        "print(arr4)\n",
        "print(arr5)\n",
        "arr6=np.add(arr4,arr5)\n",
        "print(arr6)\n",
        "arr7=np.sqrt(arr6)\n",
        "print(arr7)\n",
        "\n",
        "print(\"--------------------\\n\")\n",
        "#f\n",
        "arr8=np.arange(100,200,10).reshape(5,2)\n",
        "print(arr8)\n",
        "print(np.where(arr8%3==0))\n",
        "indices=list(zip(*np.where(arr8%3==0)))\n",
        "print(\"indices where elements are divisible:\", indices)"
      ]
    }
  ],
  "metadata": {
    "colab": {
      "name": "practical13.ipynb",
      "provenance": []
    },
    "kernelspec": {
      "display_name": "Python 3.10.7 64-bit",
      "language": "python",
      "name": "python3"
    },
    "language_info": {
      "codemirror_mode": {
        "name": "ipython",
        "version": 3
      },
      "file_extension": ".py",
      "mimetype": "text/x-python",
      "name": "python",
      "nbconvert_exporter": "python",
      "pygments_lexer": "ipython3",
      "version": "3.10.7"
    },
    "vscode": {
      "interpreter": {
        "hash": "26de051ba29f2982a8de78e945f0abaf191376122a1563185a90213a26c5da77"
      }
    }
  },
  "nbformat": 4,
  "nbformat_minor": 0
}
