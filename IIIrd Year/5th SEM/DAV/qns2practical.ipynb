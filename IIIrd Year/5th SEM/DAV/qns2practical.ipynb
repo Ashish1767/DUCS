{
  "cells": [
    {
      "cell_type": "code",
      "execution_count": 11,
      "metadata": {
        "colab": {
          "base_uri": "https://localhost:8080/"
        },
        "id": "1P4glyck4_cZ",
        "outputId": "3d77ff20-a7aa-420a-829a-64d50dbd668c"
      },
      "outputs": [
        {
          "name": "stdout",
          "output_type": "stream",
          "text": [
            "[[59 45  9]\n",
            " [66 14 73]\n",
            " [61 77 87]\n",
            " [69 80 15]]\n",
            "Mean = [37.66666667 51.         75.         54.66666667]\n",
            "Standard Deviation = [21.06075867 26.31856126 10.70825227 28.40578971]\n",
            "Varience = [443.55555556 692.66666667 114.66666667 806.88888889]\n",
            "Sorted array = [ 8 22 24 33 41 46 48 56 78 91]\n",
            "Indices of sorted array =  [8 2 6 9 3 7 1 0 4 5]\n",
            "[[ 9 88 86]\n",
            " [ 0 72 52]]\n",
            "Shape = (2, 3)\n",
            "Type = <class 'numpy.ndarray'>\n",
            "DataType = int32\n",
            "Transpose = [[ 9  0]\n",
            " [88 72]\n",
            " [86 52]]\n"
          ]
        },
        {
          "ename": "IndexError",
          "evalue": "tuple index out of range",
          "output_type": "error",
          "traceback": [
            "\u001b[1;31m---------------------------------------------------------------------------\u001b[0m",
            "\u001b[1;31mIndexError\u001b[0m                                Traceback (most recent call last)",
            "Cell \u001b[1;32mIn [11], line 26\u001b[0m\n\u001b[0;32m     24\u001b[0m \u001b[39m#d\u001b[39;00m\n\u001b[0;32m     25\u001b[0m d\u001b[39m=\u001b[39mnp\u001b[39m.\u001b[39marray([\u001b[39m1\u001b[39m,\u001b[39m0\u001b[39m,\u001b[39m2\u001b[39m,np\u001b[39m.\u001b[39mnan,\u001b[39m3\u001b[39m,\u001b[39m0\u001b[39m,\u001b[39m0\u001b[39m])\n\u001b[1;32m---> 26\u001b[0m \u001b[39mprint\u001b[39m(\u001b[39m\"\u001b[39m\u001b[39mElements are zero =\u001b[39m\u001b[39m\"\u001b[39m,np\u001b[39m.\u001b[39;49mwhere(d\u001b[39m==\u001b[39;49m\u001b[39m1\u001b[39;49m)[\u001b[39m1\u001b[39;49m])\n\u001b[0;32m     27\u001b[0m \u001b[39mprint\u001b[39m(\u001b[39m\"\u001b[39m\u001b[39mElements are non-zero =\u001b[39m\u001b[39m\"\u001b[39m,np\u001b[39m.\u001b[39mwhere(d\u001b[39m!=\u001b[39m\u001b[39m0\u001b[39m)[\u001b[39m0\u001b[39m])\n\u001b[0;32m     28\u001b[0m \u001b[39mprint\u001b[39m(\u001b[39m\"\u001b[39m\u001b[39mElements are NAN =\u001b[39m\u001b[39m\"\u001b[39m,np\u001b[39m.\u001b[39mwhere(np\u001b[39m.\u001b[39misnan(d))[\u001b[39m0\u001b[39m])\n",
            "\u001b[1;31mIndexError\u001b[0m: tuple index out of range"
          ]
        }
      ],
      "source": [
        "import numpy as np\n",
        "\n",
        "#a\n",
        "q=np.random.randint(0,100,size=(4,3))\n",
        "print(q)\n",
        "\n",
        "print(\"Mean =\",np.mean(q,axis=1))\n",
        "print(\"Standard Deviation =\",np.std(q,axis=1))\n",
        "print(\"Varience =\",np.var(q,axis=1))\n",
        "\n",
        "#b\n",
        "b=[56,48,22,41,78,91,24,46,8,33]\n",
        "print(\"Sorted array =\",np.sort(b))\n",
        "print(\"Indices of sorted array = \",np.argsort(b))\n",
        "\n",
        "#c \n",
        "c=np.random.randint(0,100,size=(2,3))\n",
        "print(c)\n",
        "print(\"Shape =\",np.shape(c))\n",
        "print(\"Type =\",type(c))\n",
        "print(\"DataType =\",c.dtype)\n",
        "print(\"Transpose =\",np.transpose(c))\n",
        "\n",
        "#d\n",
        "d=np.array([1,0,2,np.nan,3,0,0])\n",
        "print(\"Elements are zero =\",np.where(d==0)[0])\n",
        "print(\"Elements are non-zero =\",np.where(d!=0)[0])\n",
        "print(\"Elements are NAN =\",np.where(np.isnan(d))[0])"
      ]
    },
    {
      "cell_type": "code",
      "execution_count": null,
      "metadata": {
        "id": "IJrEGSFG5y_1"
      },
      "outputs": [],
      "source": []
    },
    {
      "cell_type": "markdown",
      "metadata": {
        "id": "Dq_VsgAN5znL"
      },
      "source": []
    }
  ],
  "metadata": {
    "colab": {
      "collapsed_sections": [],
      "name": "qns2practical.ipynb",
      "provenance": []
    },
    "kernelspec": {
      "display_name": "Python 3.10.7 64-bit",
      "language": "python",
      "name": "python3"
    },
    "language_info": {
      "codemirror_mode": {
        "name": "ipython",
        "version": 3
      },
      "file_extension": ".py",
      "mimetype": "text/x-python",
      "name": "python",
      "nbconvert_exporter": "python",
      "pygments_lexer": "ipython3",
      "version": "3.10.7"
    },
    "vscode": {
      "interpreter": {
        "hash": "67e0cbc25fa4f5baaacba1240f401bc655b640f8e15cfc935dfee2e63491bdf4"
      }
    }
  },
  "nbformat": 4,
  "nbformat_minor": 0
}
