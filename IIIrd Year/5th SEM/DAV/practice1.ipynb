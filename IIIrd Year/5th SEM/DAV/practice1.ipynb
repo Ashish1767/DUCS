{
 "cells": [
  {
   "cell_type": "code",
   "execution_count": 1,
   "metadata": {},
   "outputs": [
    {
     "name": "stdout",
     "output_type": "stream",
     "text": [
      "{'boys': [72, 68, 70, 69], 'girls': [63, 65, 69, 62, 62]}\n",
      "[{'boys': 72, 'girls': 63}, {'boys': 68, 'girls': 65}, {'boys': 70, 'girls': 69}, {'boys': 69, 'girls': 62}, {'boys': None, 'girls': 62}]\n"
     ]
    }
   ],
   "source": [
    "import itertools\n",
    "def qns(heights):\n",
    "    keys=heights.keys()\n",
    "    values=itertools.zip_longest(*[heights[k] for k in keys])\n",
    "    result=[dict(itertools.zip_longest(keys,v)) for v in values]\n",
    "    return result\n",
    "heights={'boys':[72,68,70,69],'girls':[63,65,69,62,62]}\n",
    "print(heights)\n",
    "print(qns(heights))"
   ]
  }
 ],
 "metadata": {
  "kernelspec": {
   "display_name": "Python 3.10.7 64-bit",
   "language": "python",
   "name": "python3"
  },
  "language_info": {
   "codemirror_mode": {
    "name": "ipython",
    "version": 3
   },
   "file_extension": ".py",
   "mimetype": "text/x-python",
   "name": "python",
   "nbconvert_exporter": "python",
   "pygments_lexer": "ipython3",
   "version": "3.10.7"
  },
  "orig_nbformat": 4,
  "vscode": {
   "interpreter": {
    "hash": "67e0cbc25fa4f5baaacba1240f401bc655b640f8e15cfc935dfee2e63491bdf4"
   }
  }
 },
 "nbformat": 4,
 "nbformat_minor": 2
}
