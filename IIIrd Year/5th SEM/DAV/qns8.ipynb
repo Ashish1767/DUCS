{
 "cells": [
  {
   "cell_type": "code",
   "execution_count": 2,
   "metadata": {},
   "outputs": [
    {
     "name": "stdout",
     "output_type": "stream",
     "text": [
      "    name  gender  monthly_income(Rs.)\n",
      "0   shah    male               114000\n",
      "1   vats    male                65000\n",
      "2   vats  female                43150\n",
      "3  kumar  female                69500\n",
      "4   vats  female               155000\n",
      "5  kumar    male               103000\n",
      "6   shah    male                55000\n",
      "7   shah  female               112400\n",
      "8  kumar  female                81030\n",
      "9   vats    male                71900\n"
     ]
    }
   ],
   "source": [
    "#import numpy as np\n",
    "import pandas as pd\n",
    "d={\"name\":[\"shah\",\"vats\",\"vats\",\"kumar\",\"vats\",\"kumar\",\"shah\",\"shah\",\"kumar\",\"vats\"],\n",
    "\"gender\":[\"male\",\"male\",\"female\",\"female\",\"female\",\"male\",\"male\",\"female\",\"female\",\"male\"],\n",
    "\"monthly_income(Rs.)\":[114000,65000,43150,69500,155000,103000,55000,112400,81030,71900]}\n",
    "df=pd.DataFrame(d)\n",
    "print(df)"
   ]
  },
  {
   "cell_type": "code",
   "execution_count": 3,
   "metadata": {},
   "outputs": [
    {
     "data": {
      "text/plain": [
       "name\n",
       "kumar    253530\n",
       "shah     281400\n",
       "vats     335050\n",
       "Name: monthly_income(Rs.), dtype: int64"
      ]
     },
     "execution_count": 3,
     "metadata": {},
     "output_type": "execute_result"
    }
   ],
   "source": [
    "a1=df.groupby('name')['monthly_income(Rs.)'].sum()\n",
    "a1"
   ]
  },
  {
   "cell_type": "code",
   "execution_count": 4,
   "metadata": {},
   "outputs": [
    {
     "data": {
      "text/html": [
       "<div>\n",
       "<style scoped>\n",
       "    .dataframe tbody tr th:only-of-type {\n",
       "        vertical-align: middle;\n",
       "    }\n",
       "\n",
       "    .dataframe tbody tr th {\n",
       "        vertical-align: top;\n",
       "    }\n",
       "\n",
       "    .dataframe thead tr th {\n",
       "        text-align: left;\n",
       "    }\n",
       "\n",
       "    .dataframe thead tr:last-of-type th {\n",
       "        text-align: right;\n",
       "    }\n",
       "</style>\n",
       "<table border=\"1\" class=\"dataframe\">\n",
       "  <thead>\n",
       "    <tr>\n",
       "      <th></th>\n",
       "      <th colspan=\"3\" halign=\"left\">monthly_income(Rs.)</th>\n",
       "    </tr>\n",
       "    <tr>\n",
       "      <th></th>\n",
       "      <th>sum</th>\n",
       "      <th>min</th>\n",
       "      <th>max</th>\n",
       "    </tr>\n",
       "    <tr>\n",
       "      <th>name</th>\n",
       "      <th></th>\n",
       "      <th></th>\n",
       "      <th></th>\n",
       "    </tr>\n",
       "  </thead>\n",
       "  <tbody>\n",
       "    <tr>\n",
       "      <th>kumar</th>\n",
       "      <td>253530</td>\n",
       "      <td>69500</td>\n",
       "      <td>103000</td>\n",
       "    </tr>\n",
       "    <tr>\n",
       "      <th>shah</th>\n",
       "      <td>281400</td>\n",
       "      <td>55000</td>\n",
       "      <td>114000</td>\n",
       "    </tr>\n",
       "    <tr>\n",
       "      <th>vats</th>\n",
       "      <td>335050</td>\n",
       "      <td>43150</td>\n",
       "      <td>155000</td>\n",
       "    </tr>\n",
       "  </tbody>\n",
       "</table>\n",
       "</div>"
      ],
      "text/plain": [
       "      monthly_income(Rs.)               \n",
       "                      sum    min     max\n",
       "name                                    \n",
       "kumar              253530  69500  103000\n",
       "shah               281400  55000  114000\n",
       "vats               335050  43150  155000"
      ]
     },
     "execution_count": 4,
     "metadata": {},
     "output_type": "execute_result"
    }
   ],
   "source": [
    "a2=df.groupby('name').agg({'monthly_income(Rs.)':['sum','min','max']})\n",
    "a2"
   ]
  },
  {
   "cell_type": "code",
   "execution_count": 5,
   "metadata": {},
   "outputs": [
    {
     "data": {
      "text/html": [
       "<div>\n",
       "<style scoped>\n",
       "    .dataframe tbody tr th:only-of-type {\n",
       "        vertical-align: middle;\n",
       "    }\n",
       "\n",
       "    .dataframe tbody tr th {\n",
       "        vertical-align: top;\n",
       "    }\n",
       "\n",
       "    .dataframe thead th {\n",
       "        text-align: right;\n",
       "    }\n",
       "</style>\n",
       "<table border=\"1\" class=\"dataframe\">\n",
       "  <thead>\n",
       "    <tr style=\"text-align: right;\">\n",
       "      <th></th>\n",
       "      <th>gender</th>\n",
       "      <th>monthly_income(Rs.)</th>\n",
       "    </tr>\n",
       "    <tr>\n",
       "      <th>name</th>\n",
       "      <th></th>\n",
       "      <th></th>\n",
       "    </tr>\n",
       "  </thead>\n",
       "  <tbody>\n",
       "    <tr>\n",
       "      <th>kumar</th>\n",
       "      <td>male</td>\n",
       "      <td>103000</td>\n",
       "    </tr>\n",
       "    <tr>\n",
       "      <th>shah</th>\n",
       "      <td>male</td>\n",
       "      <td>114000</td>\n",
       "    </tr>\n",
       "    <tr>\n",
       "      <th>vats</th>\n",
       "      <td>male</td>\n",
       "      <td>155000</td>\n",
       "    </tr>\n",
       "  </tbody>\n",
       "</table>\n",
       "</div>"
      ],
      "text/plain": [
       "      gender  monthly_income(Rs.)\n",
       "name                             \n",
       "kumar   male               103000\n",
       "shah    male               114000\n",
       "vats    male               155000"
      ]
     },
     "execution_count": 5,
     "metadata": {},
     "output_type": "execute_result"
    }
   ],
   "source": [
    "a3=df.groupby('name').max()\n",
    "a3"
   ]
  },
  {
   "cell_type": "code",
   "execution_count": 7,
   "metadata": {},
   "outputs": [
    {
     "name": "stdout",
     "output_type": "stream",
     "text": [
      "    name  gender  monthly_income(Rs.)\n",
      "3  kumar  female                69500\n",
      "5  kumar    male               103000\n",
      "8  kumar  female                81030\n",
      "0   shah    male               114000\n",
      "7   shah  female               112400\n",
      "1   vats    male                65000\n",
      "4   vats  female               155000\n",
      "9   vats    male                71900\n"
     ]
    },
    {
     "name": "stderr",
     "output_type": "stream",
     "text": [
      "C:\\Users\\pc\\AppData\\Local\\Temp\\ipykernel_8352\\179489335.py:3: SettingWithCopyWarning: \n",
      "A value is trying to be set on a copy of a slice from a DataFrame\n",
      "\n",
      "See the caveats in the documentation: https://pandas.pydata.org/pandas-docs/stable/user_guide/indexing.html#returning-a-view-versus-a-copy\n",
      "  a4.sort_values('name',inplace=True)\n"
     ]
    }
   ],
   "source": [
    "df4=df['monthly_income(Rs.)']>60000\n",
    "a4=df[df4]\n",
    "a4.sort_values('name',inplace=True)\n",
    "print(a4)"
   ]
  },
  {
   "cell_type": "code",
   "execution_count": null,
   "metadata": {},
   "outputs": [],
   "source": [
    "a5=df[df['name']=='shah'][df['gender']=='female'].mean()\n",
    "a5"
   ]
  }
 ],
 "metadata": {
  "kernelspec": {
   "display_name": "Python 3.10.7 64-bit",
   "language": "python",
   "name": "python3"
  },
  "language_info": {
   "codemirror_mode": {
    "name": "ipython",
    "version": 3
   },
   "file_extension": ".py",
   "mimetype": "text/x-python",
   "name": "python",
   "nbconvert_exporter": "python",
   "pygments_lexer": "ipython3",
   "version": "3.10.7"
  },
  "orig_nbformat": 4,
  "vscode": {
   "interpreter": {
    "hash": "67e0cbc25fa4f5baaacba1240f401bc655b640f8e15cfc935dfee2e63491bdf4"
   }
  }
 },
 "nbformat": 4,
 "nbformat_minor": 2
}
